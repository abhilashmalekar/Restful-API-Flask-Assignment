{
  "nbformat": 4,
  "nbformat_minor": 0,
  "metadata": {
    "colab": {
      "provenance": []
    },
    "kernelspec": {
      "name": "python3",
      "display_name": "Python 3"
    },
    "language_info": {
      "name": "python"
    }
  },
  "cells": [
    {
      "cell_type": "markdown",
      "source": [
        "# Theory Questions : Restful API & Flask Assignment"
      ],
      "metadata": {
        "id": "_7Xu3ZwRcKMQ"
      }
    },
    {
      "cell_type": "markdown",
      "source": [
        "\n",
        "# **1. What is a RESTful API?**\n",
        "\n",
        "A **RESTful API** is an **Application Programming Interface** that follows the **Representational State Transfer (REST)** architectural style.\n",
        "\n",
        "### **Key Characteristics:**\n",
        "\n",
        "* Uses **HTTP methods** (GET, POST, PUT, DELETE).\n",
        "* Works on **resources** identified by **URLs**.\n",
        "* Communication is **stateless** (each request is independent).\n",
        "* Responses are usually in **JSON** or **XML** format.\n",
        "* Supports **CRUD operations**:\n",
        "\n",
        "  * **Create** → POST\n",
        "  * **Read** → GET\n",
        "  * **Update** → PUT/PATCH\n",
        "  * **Delete** → DELETE\n",
        "\n",
        "---\n",
        "\n",
        "# **2. Explain the concept of API specification**\n",
        "\n",
        "An **API specification** is a **blueprint** that defines how an API works. It provides:\n",
        "\n",
        "* **Endpoints** (URLs) and supported methods.\n",
        "* **Request formats** (headers, query parameters, body).\n",
        "* **Response formats** (status codes, JSON schema).\n",
        "* **Authentication methods** (API keys, OAuth, JWT).\n",
        "\n",
        "### **Why important?**\n",
        "\n",
        "* Acts as a **contract** between frontend and backend teams.\n",
        "* Enables **API documentation** (Swagger/OpenAPI).\n",
        "* Helps in **automated testing** and **client SDK generation**.\n",
        "\n",
        "---\n",
        "\n",
        "# **3. What is Flask, and why is it popular for building APIs?**\n",
        "\n",
        "**Flask** is a **lightweight web framework** in Python used to build web applications and APIs.\n",
        "\n",
        "### **Why popular?**\n",
        "\n",
        "* **Minimalistic & Flexible**: Unlike Django, Flask does not enforce strict structure.\n",
        "* **Extensible**: Supports plugins (Flask-SQLAlchemy, Flask-RESTful).\n",
        "* **Easy to Learn**: Perfect for beginners and small projects.\n",
        "* **Supports REST APIs** easily.\n",
        "\n",
        "---\n",
        "\n",
        "# **4. What is routing in Flask?**\n",
        "\n",
        "Routing in Flask maps **URLs (endpoints)** to **Python functions (views)**.\n",
        "\n",
        "* Example: `/home` → `home()` function.\n",
        "* Routes are defined using the `@app.route()` decorator.\n",
        "\n",
        "---\n",
        "\n",
        "# **5. How do you create a simple Flask application?**\n",
        "\n",
        "```python\n",
        "from flask import Flask\n",
        "app = Flask(__name__)\n",
        "\n",
        "@app.route('/')\n",
        "def home():\n",
        "    return \"Hello, Flask!\"\n",
        "\n",
        "if __name__ == '__main__':\n",
        "    app.run(debug=True)\n",
        "```\n",
        "\n",
        "✔ Run this code → Access in browser at **[http://127.0.0.1:5000/](http://127.0.0.1:5000/)**\n",
        "\n",
        "---\n",
        "\n",
        "# **6. What are HTTP methods used in RESTful APIs?**\n",
        "\n",
        "* **GET** → Fetch data from the server.\n",
        "* **POST** → Send new data to the server.\n",
        "* **PUT** → Replace/Update existing data.\n",
        "* **PATCH** → Partially update existing data.\n",
        "* **DELETE** → Remove data.\n",
        "\n",
        "---\n",
        "\n",
        "# **7. Purpose of @app.route() in Flask**\n",
        "\n",
        "`@app.route()` maps a URL to a function. Example:\n",
        "\n",
        "```python\n",
        "@app.route('/hello')\n",
        "def hello():\n",
        "    return \"Hello World!\"\n",
        "```\n",
        "\n",
        "---\n",
        "\n",
        "# **8. Difference between GET and POST**\n",
        "\n",
        "| Feature   | GET                   | POST                       |\n",
        "| --------- | --------------------- | -------------------------- |\n",
        "| Purpose   | Retrieve data         | Send data to the server    |\n",
        "| Data sent | URL query string      | Request body               |\n",
        "| Security  | Less secure (visible) | More secure                |\n",
        "| Use case  | Read-only requests    | Form submissions, API POST |\n",
        "\n",
        "---\n",
        "\n",
        "# **9. How do you handle errors in Flask APIs?**\n",
        "\n",
        "Use **error handlers** or `abort()`:\n",
        "\n",
        "```python\n",
        "from flask import abort\n",
        "\n",
        "@app.route('/secure')\n",
        "def secure():\n",
        "    abort(403)  # Forbidden\n",
        "```\n",
        "\n",
        "Custom error response:\n",
        "\n",
        "```python\n",
        "@app.errorhandler(404)\n",
        "def page_not_found(e):\n",
        "    return {\"error\": \"Page not found\"}, 404\n",
        "```\n",
        "\n",
        "---\n",
        "\n",
        "# **10. How to connect Flask to SQL database?**\n",
        "\n",
        "Using **Flask-SQLAlchemy**:\n",
        "\n",
        "```python\n",
        "from flask_sqlalchemy import SQLAlchemy\n",
        "\n",
        "app.config['SQLALCHEMY_DATABASE_URI'] = 'sqlite:///test.db'\n",
        "db = SQLAlchemy(app)\n",
        "```\n",
        "\n",
        "---\n",
        "\n",
        "# **11. Role of Flask-SQLAlchemy**\n",
        "\n",
        "* Acts as an **ORM** (Object Relational Mapper).\n",
        "* Allows you to interact with database using **Python classes** instead of raw SQL.\n",
        "* Example:\n",
        "\n",
        "```python\n",
        "class User(db.Model):\n",
        "    id = db.Column(db.Integer, primary_key=True)\n",
        "    name = db.Column(db.String(80))\n",
        "```\n",
        "\n",
        "---\n",
        "\n",
        "# **12. What are Flask Blueprints?**\n",
        "\n",
        "Blueprints are a way to **organize large Flask apps** into smaller, reusable modules.\n",
        "Example:\n",
        "\n",
        "* **auth routes** → `auth.py`\n",
        "* **API routes** → `api.py`\n",
        "\n",
        "---\n",
        "\n",
        "# **13. Purpose of Flask's request object**\n",
        "\n",
        "`request` contains **incoming HTTP request data**:\n",
        "\n",
        "* `request.args` → Query params\n",
        "* `request.form` → Form data\n",
        "* `request.json` → JSON data\n",
        "\n",
        "---\n",
        "\n",
        "# **14. How to create a RESTful API endpoint in Flask?**\n",
        "\n",
        "```python\n",
        "@app.route('/api/data', methods=['GET'])\n",
        "def get_data():\n",
        "    return {\"message\": \"Hello API\"}\n",
        "```\n",
        "\n",
        "---\n",
        "\n",
        "# **15. Purpose of Flask's jsonify()**\n",
        "\n",
        "`jsonify()` converts Python data (dict/list) into a **JSON response** with `Content-Type: application/json`.\n",
        "\n",
        "---\n",
        "\n",
        "# **16. Explain Flask’s url\\_for()**\n",
        "\n",
        "Generates **dynamic URLs**:\n",
        "\n",
        "```python\n",
        "@app.route('/home')\n",
        "def home():\n",
        "    return \"Home Page\"\n",
        "\n",
        "# Somewhere else\n",
        "url_for('home')  # returns '/home'\n",
        "```\n",
        "\n",
        "---\n",
        "\n",
        "# **17. Handling static files**\n",
        "\n",
        "* Place files in `static/` folder.\n",
        "* Access:\n",
        "\n",
        "```html\n",
        "<link rel=\"stylesheet\" href=\"{{ url_for('static', filename='style.css') }}\">\n",
        "```\n",
        "\n",
        "---\n",
        "\n",
        "# **18. API specification in Flask**\n",
        "\n",
        "Helps define:\n",
        "\n",
        "* Endpoints\n",
        "* Methods\n",
        "* JSON request/response\n",
        "  Tools: **Swagger (Flasgger), OpenAPI**\n",
        "\n",
        "---\n",
        "\n",
        "# **19. HTTP Status Codes**\n",
        "\n",
        "* **200 OK** → Success\n",
        "* **201 Created** → Resource created\n",
        "* **400 Bad Request** → Invalid input\n",
        "* **404 Not Found**\n",
        "* **500 Internal Server Error**\n",
        "\n",
        "---\n",
        "\n",
        "# **20. Handling POST requests**\n",
        "\n",
        "```python\n",
        "@app.route('/submit', methods=['POST'])\n",
        "def submit():\n",
        "    data = request.json\n",
        "    return {\"received\": data}, 201\n",
        "```\n",
        "\n",
        "---\n",
        "\n",
        "# **21. How to secure Flask API**\n",
        "\n",
        "* Use **HTTPS**\n",
        "* Authentication → **JWT, OAuth**\n",
        "* Validate inputs\n",
        "* Use **CORS control**\n",
        "* Apply **rate limiting**\n",
        "\n",
        "---\n",
        "\n",
        "# **22. Flask-RESTful**\n",
        "\n",
        "Extension to simplify REST APIs:\n",
        "\n",
        "* Provides **Resource classes**\n",
        "* Built-in input parsing\n",
        "* Cleaner code for HTTP methods\n",
        "\n",
        "---\n",
        "\n",
        "# **23. Flask session object**\n",
        "\n",
        "* Stores **user-specific data** between requests.\n",
        "* Uses **secure cookies**.\n",
        "* Example:\n",
        "\n",
        "```python\n",
        "from flask import session\n",
        "session['username'] = 'John'\n",
        "```\n",
        "\n"
      ],
      "metadata": {
        "id": "dH6UlKZIcKzs"
      }
    },
    {
      "cell_type": "markdown",
      "source": [
        "# Practical Questions : Restful API & Flask Assignment"
      ],
      "metadata": {
        "id": "vt5al7HFc0ij"
      }
    },
    {
      "cell_type": "code",
      "source": [
        "# 1. How do you create a basic Flask application?\n",
        "# - Use Flask class, define routes using @app.route(), and run the app.\n",
        "from flask import Flask\n",
        "app = Flask(__name__)\n",
        "\n",
        "@app.route('/')\n",
        "def home():\n",
        "    return \"Hello, Flask!\"\n",
        "\n",
        "if __name__ == '__main__':\n",
        "    app.run(debug=True)\n"
      ],
      "metadata": {
        "id": "Z33Wg0wnhiUE"
      },
      "execution_count": null,
      "outputs": []
    },
    {
      "cell_type": "code",
      "source": [
        "# 2. How do you serve static files like images or CSS in Flask?\n",
        "# - Place static files in the \"static/\" folder and use url_for() to reference them in templates.\n",
        "# Example HTML:\n",
        "# <link rel=\"stylesheet\" href=\"{{ url_for('static', filename='style.css') }}\">\n"
      ],
      "metadata": {
        "id": "ozwRQXJYfrtR"
      },
      "execution_count": 18,
      "outputs": []
    },
    {
      "cell_type": "code",
      "source": [
        "# 3. How do you define different routes with different HTTP methods in Flask?\n",
        "# - Specify allowed methods in @app.route(methods=[]).\n",
        "from flask import request\n",
        "\n",
        "@app.route('/data', methods=['GET', 'POST'])\n",
        "def data():\n",
        "    if request.method == 'GET':\n",
        "        return \"GET request\"\n",
        "    elif request.method == 'POST':\n",
        "        return \"POST request\"\n"
      ],
      "metadata": {
        "id": "DGvqXZHbhvcy"
      },
      "execution_count": 28,
      "outputs": []
    },
    {
      "cell_type": "code",
      "source": [
        "# 4. How do you render HTML templates in Flask?\n",
        "# - Use render_template() and place HTML files inside a \"templates\" folder.\n",
        "from flask import render_template\n",
        "\n",
        "@app.route('/hello')\n",
        "def hello():\n",
        "    return render_template('index.html', name=\"John\")\n",
        "# Example index.html:\n",
        "# <h1>Hello, {{ name }}!</h1>\n"
      ],
      "metadata": {
        "id": "GkoSW8q3frS6"
      },
      "execution_count": 23,
      "outputs": []
    },
    {
      "cell_type": "code",
      "source": [
        "# 5. How can you generate URLs for routes in Flask using url_for()?\n",
        "# - Use url_for('function_name', param=value) to dynamically create URLs.\n",
        "from flask import url_for\n",
        "\n",
        "@app.route('/profile/<username>')\n",
        "def profile(username):\n",
        "    return f\"Profile: {username}\"\n",
        "\n",
        "@app.route('/link')\n",
        "def link():\n",
        "    return url_for('profile', username='john')\n"
      ],
      "metadata": {
        "id": "vaMenk0GfrDj"
      },
      "execution_count": 24,
      "outputs": []
    },
    {
      "cell_type": "code",
      "source": [
        "# 6. How do you handle forms in Flask?\n",
        "# - Use request.form to get form data submitted via POST.\n",
        "from flask import request\n",
        "\n",
        "@app.route('/submit', methods=['POST'])\n",
        "def submit():\n",
        "    name = request.form.get('name')\n",
        "    return f\"Hello, {name}\"\n"
      ],
      "metadata": {
        "id": "nl3sezvJegoL"
      },
      "execution_count": 25,
      "outputs": []
    },
    {
      "cell_type": "code",
      "source": [
        "# 7. How can you validate form data in Flask?\n",
        "# - Perform manual checks or use Flask-WTF for advanced validation.\n",
        "@app.route('/validate', methods=['POST'])\n",
        "def validate():\n",
        "    name = request.form.get('name')\n",
        "    if not name:\n",
        "        return \"Name is required\", 400\n",
        "    return f\"Valid name: {name}\"\n"
      ],
      "metadata": {
        "id": "WR4BVJfRegqx"
      },
      "execution_count": 26,
      "outputs": []
    },
    {
      "cell_type": "code",
      "source": [
        "# 8. How do you manage sessions in Flask?\n",
        "# - Use session dictionary. Requires app.secret_key.\n",
        "from flask import session\n",
        "\n",
        "app.secret_key = 'mysecret'\n",
        "\n",
        "@app.route('/set')\n",
        "def set_session():\n",
        "    session['username'] = 'John'\n",
        "    return \"Session set\"\n",
        "\n",
        "@app.route('/get')\n",
        "def get_session():\n",
        "    return session.get('username', 'Not set')\n"
      ],
      "metadata": {
        "id": "wJVHYJ_kh0X_"
      },
      "execution_count": 29,
      "outputs": []
    },
    {
      "cell_type": "code",
      "source": [
        "# 9. How do you redirect to a different route in Flask?\n",
        "# - Use redirect() with url_for().\n",
        "from flask import redirect\n",
        "\n",
        "@app.route('/login')\n",
        "def login():\n",
        "    return redirect(url_for('home'))\n"
      ],
      "metadata": {
        "id": "RRAnBlFyh0ND"
      },
      "execution_count": 30,
      "outputs": []
    },
    {
      "cell_type": "code",
      "source": [
        "# 10. How do you handle errors in Flask (e.g., 404)?\n",
        "# - Use @app.errorhandler() to define custom error responses.\n",
        "@app.errorhandler(404)\n",
        "def page_not_found(e):\n",
        "    return \"Custom 404 Page\", 404\n"
      ],
      "metadata": {
        "id": "NEA9-TyEegxl"
      },
      "execution_count": 11,
      "outputs": []
    },
    {
      "cell_type": "code",
      "source": [
        "# 11. How do you structure a Flask app using Blueprints?\n",
        "# - Use Blueprint objects to modularize routes.\n",
        "from flask import Blueprint\n",
        "\n",
        "auth_bp = Blueprint('auth', __name__)\n",
        "\n",
        "@auth_bp.route('/login')\n",
        "def auth_login():\n",
        "    return \"Auth Login\"\n",
        "\n",
        "app.register_blueprint(auth_bp, url_prefix='/auth')\n"
      ],
      "metadata": {
        "id": "H9WV7SlEeg1B"
      },
      "execution_count": 10,
      "outputs": []
    },
    {
      "cell_type": "code",
      "source": [
        "# 12. How do you define a custom Jinja filter in Flask?\n",
        "# - Use @app.template_filter() decorator.\n",
        "@app.template_filter('reverse')\n",
        "def reverse_filter(s):\n",
        "    return s[::-1]\n",
        "# In template: {{ 'hello'|reverse }} -> olleh\n"
      ],
      "metadata": {
        "id": "QJZq0sBYfWeb"
      },
      "execution_count": 9,
      "outputs": []
    },
    {
      "cell_type": "code",
      "source": [
        "# 13. How can you redirect with query parameters in Flask?\n",
        "# - Pass arguments to url_for().\n",
        "@app.route('/redirect_query')\n",
        "def redirect_query():\n",
        "    return redirect(url_for('home', user='John'))\n"
      ],
      "metadata": {
        "id": "ytTecEQcfWkz"
      },
      "execution_count": 8,
      "outputs": []
    },
    {
      "cell_type": "code",
      "source": [
        "# 14. How do you return JSON responses in Flask?\n",
        "# - Use jsonify() to return a JSON response.\n",
        "from flask import jsonify\n",
        "\n",
        "@app.route('/api')\n",
        "def api():\n",
        "    return jsonify({\"message\": \"Hello API\"})\n"
      ],
      "metadata": {
        "id": "7Wt1x_3bfW1P"
      },
      "execution_count": 7,
      "outputs": []
    },
    {
      "cell_type": "code",
      "source": [
        "# 15. How do you capture URL parameters in Flask?\n",
        "# - Use <param> in route and access it in the function.\n",
        "@app.route('/user/<username>')\n",
        "def user_profile(username):\n",
        "    return f\"User: {username}\"\n",
        "\n",
        "@app.route('/post/<int:id>')\n",
        "def post(id):\n",
        "    return f\"Post ID: {id}\"\n"
      ],
      "metadata": {
        "id": "Ep7fk6fBiA6i"
      },
      "execution_count": 31,
      "outputs": []
    }
  ]
}